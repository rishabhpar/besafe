{
 "cells": [
  {
   "cell_type": "code",
   "execution_count": 3,
   "metadata": {},
   "outputs": [
    {
     "name": "stdout",
     "output_type": "stream",
     "text": [
      "Requirement already satisfied: torch in c:\\users\\risha\\miniconda3\\lib\\site-packages (1.7.0+cpu)\n",
      "Requirement already satisfied: dataclasses in c:\\users\\risha\\miniconda3\\lib\\site-packages (from torch) (0.6)\n",
      "Requirement already satisfied: typing-extensions in c:\\users\\risha\\miniconda3\\lib\\site-packages (from torch) (3.7.4.3)\n",
      "Requirement already satisfied: future in c:\\users\\risha\\miniconda3\\lib\\site-packages (from torch) (0.18.2)\n",
      "Requirement already satisfied: numpy in c:\\users\\risha\\miniconda3\\lib\\site-packages (from torch) (1.18.5)\n",
      "Collecting snorkel\n",
      "  Using cached snorkel-0.9.6-py3-none-any.whl (144 kB)\n",
      "Requirement already satisfied: tqdm<5.0.0,>=4.33.0 in c:\\users\\risha\\appdata\\local\\packages\\pythonsoftwarefoundation.python.3.8_qbz5n2kfra8p0\\localcache\\local-packages\\python38\\site-packages (from snorkel) (4.53.0)\n",
      "Collecting networkx<2.4,>=2.2\n",
      "  Using cached networkx-2.3.zip (1.7 MB)\n",
      "Collecting scikit-learn<0.22.0,>=0.20.2\n",
      "  Using cached scikit-learn-0.21.3.tar.gz (12.2 MB)\n",
      "Requirement already satisfied: pandas<2.0.0,>=0.25.0 in c:\\users\\risha\\appdata\\local\\packages\\pythonsoftwarefoundation.python.3.8_qbz5n2kfra8p0\\localcache\\local-packages\\python38\\site-packages (from snorkel) (1.1.4)\n"
     ]
    },
    {
     "name": "stderr",
     "output_type": "stream",
     "text": [
      "ERROR: Could not find a version that satisfies the requirement torch<2.0.0,>=1.2.0 (from snorkel) (from versions: 0.1.2, 0.1.2.post1, 0.1.2.post2)\n",
      "ERROR: No matching distribution found for torch<2.0.0,>=1.2.0 (from snorkel)\n"
     ]
    },
    {
     "ename": "ModuleNotFoundError",
     "evalue": "No module named 'snorkel'",
     "output_type": "error",
     "traceback": [
      "\u001b[1;31m---------------------------------------------------------------------------\u001b[0m",
      "\u001b[1;31mModuleNotFoundError\u001b[0m                       Traceback (most recent call last)",
      "\u001b[1;32m<ipython-input-3-3bf8d4e2bcee>\u001b[0m in \u001b[0;36m<module>\u001b[1;34m\u001b[0m\n\u001b[0;32m      3\u001b[0m \u001b[1;31m# !pip3 install nltk\u001b[0m\u001b[1;33m\u001b[0m\u001b[1;33m\u001b[0m\u001b[1;33m\u001b[0m\u001b[0m\n\u001b[0;32m      4\u001b[0m \u001b[1;31m# !pip3 install pyinflect\u001b[0m\u001b[1;33m\u001b[0m\u001b[1;33m\u001b[0m\u001b[1;33m\u001b[0m\u001b[0m\n\u001b[1;32m----> 5\u001b[1;33m \u001b[1;32mfrom\u001b[0m \u001b[0msnorkel\u001b[0m\u001b[1;33m.\u001b[0m\u001b[0mlabeling\u001b[0m \u001b[1;32mimport\u001b[0m \u001b[0mlabeling_function\u001b[0m\u001b[1;33m\u001b[0m\u001b[1;33m\u001b[0m\u001b[0m\n\u001b[0m\u001b[0;32m      6\u001b[0m \u001b[1;32mimport\u001b[0m \u001b[0mpandas\u001b[0m \u001b[1;32mas\u001b[0m \u001b[0mpd\u001b[0m\u001b[1;33m\u001b[0m\u001b[1;33m\u001b[0m\u001b[0m\n\u001b[0;32m      7\u001b[0m \u001b[1;32mimport\u001b[0m \u001b[0mnumpy\u001b[0m \u001b[1;32mas\u001b[0m \u001b[0mnp\u001b[0m\u001b[1;33m\u001b[0m\u001b[1;33m\u001b[0m\u001b[0m\n",
      "\u001b[1;31mModuleNotFoundError\u001b[0m: No module named 'snorkel'"
     ]
    }
   ],
   "source": [
    "!pip install torch\n",
    "!pip3 install snorkel\n",
    "# !pip3 install nltk\n",
    "# !pip3 install pyinflect\n",
    "from snorkel.labeling import labeling_function\n",
    "import pandas as pd\n",
    "import numpy as np\n",
    "from nltk.sentiment.vader import SentimentIntensityAnalyzer\n",
    "import nltk\n",
    "nltk.download('vader_lexicon')\n",
    "from snorkel.labeling import PandasLFApplier\n",
    "import pyinflect\n",
    "from pyinflect import getAllInflections, getInflection\n",
    "from snorkel.labeling.model import MajorityLabelVoter\n",
    "from sklearn.metrics import classification_report"
   ]
  },
  {
   "cell_type": "code",
   "execution_count": 2,
   "metadata": {},
   "outputs": [],
   "source": [
    "def getInflections(word):\n",
    "    inflections = getAllInflections(word)\n",
    "    inflectionList = set()\n",
    "    for value in inflections.values():\n",
    "        inflectionList.add(value[0])\n",
    "    \n",
    "        if (len(value) > 1):\n",
    "            inflectionList.add(value[1])\n",
    "    \n",
    "    return inflectionList"
   ]
  },
  {
   "cell_type": "code",
   "execution_count": 3,
   "metadata": {},
   "outputs": [],
   "source": [
    "train = pd.read_csv('train.csv')"
   ]
  },
  {
   "cell_type": "code",
   "execution_count": 4,
   "metadata": {},
   "outputs": [],
   "source": [
    "SAFE = 1\n",
    "UNSAFE = 0\n",
    "ABSTAIN = -1\n",
    "\n",
    "analyzer = SentimentIntensityAnalyzer()\n",
    "\n",
    "# testSentences = train[1:10][\"text\"] \n",
    "# test = train[1:10]\n",
    "\n",
    "# for sentence in testSentences:\n",
    "#     vs = analyzer.polarity_scores(sentence)\n",
    "#     print(\"{:-<65} {}\".format(sentence, str(vs)))"
   ]
  },
  {
   "cell_type": "code",
   "execution_count": 5,
   "metadata": {},
   "outputs": [],
   "source": [
    "@labeling_function()\n",
    "def check_assault(x):\n",
    "    \n",
    "    xSet = set(x.text.lower().split())\n",
    "    inflectionSet = getInflections(\"assault\")\n",
    "    \n",
    "    return UNSAFE if len(xSet.intersection(inflectionSet)) > 0 else ABSTAIN\n",
    "\n",
    "\n",
    "@labeling_function()\n",
    "def check_kidnap(x):\n",
    "    xSet = set(x.text.lower().split())\n",
    "    inflectionSet = getInflections(\"kidnap\")\n",
    "    \n",
    "    return UNSAFE if len(xSet.intersection(inflectionSet)) > 0 else ABSTAIN\n",
    "\n",
    "\n",
    "@labeling_function()\n",
    "def check_theft(x):\n",
    "    xSet = set(x.text.lower().split())\n",
    "    inflectionSet = getInflections(\"theft\")\n",
    "    \n",
    "    return UNSAFE if len(xSet.intersection(inflectionSet)) > 0 else ABSTAIN\n",
    "\n",
    "\n",
    "\n",
    "@labeling_function()\n",
    "def check_arson(x):\n",
    "    xSet = set(x.text.lower().split())\n",
    "    inflectionSet = getInflections(\"arson\")\n",
    "    \n",
    "    return UNSAFE if len(xSet.intersection(inflectionSet)) > 0 else ABSTAIN\n",
    "\n",
    "@labeling_function()\n",
    "def check_robber(x):\n",
    "    xSet = set(x.text.lower().split())\n",
    "    inflectionSet = getInflections(\"rob\")\n",
    "    \n",
    "    return UNSAFE if len(xSet.intersection(inflectionSet)) > 0 else ABSTAIN\n",
    "\n",
    "\n",
    "\n",
    "@labeling_function()\n",
    "def check_burglar(x):\n",
    "    xSet = set(x.text.lower().split())\n",
    "    inflectionSet = getInflections(\"burglar\")\n",
    "    \n",
    "    return UNSAFE if len(xSet.intersection(inflectionSet)) > 0 else ABSTAIN\n",
    "\n",
    "\n",
    "@labeling_function()\n",
    "def check_bombing(x):\n",
    "    xSet = set(x.text.lower().split())\n",
    "    inflectionSet = getInflections(\"bombing\")\n",
    "    \n",
    "    return UNSAFE if len(xSet.intersection(inflectionSet)) > 0 else ABSTAIN\n",
    "\n",
    "\n",
    "\n",
    "@labeling_function()\n",
    "def check_criminal(x):\n",
    "    xSet = set(x.text.lower().split())\n",
    "    inflectionSet = getInflections(\"criminal\")\n",
    "    \n",
    "    return UNSAFE if len(xSet.intersection(inflectionSet)) > 0 else ABSTAIN\n",
    "\n",
    "\n",
    "@labeling_function()\n",
    "def check_murder(x):\n",
    "    xSet = set(x.text.lower().split())\n",
    "    inflectionSet = getInflections(\"murder\")\n",
    "    \n",
    "    return UNSAFE if len(xSet.intersection(inflectionSet)) > 0 else ABSTAIN\n",
    "\n",
    "\n",
    "@labeling_function()\n",
    "def check_manslaughter(x):\n",
    "    xSet = set(x.text.lower().split())\n",
    "    inflectionSet = getInflections(\"manslaughter\")\n",
    "    \n",
    "    return UNSAFE if len(xSet.intersection(inflectionSet)) > 0 else ABSTAIN\n",
    "\n",
    "\n",
    "\n",
    "@labeling_function()\n",
    "def check_crime(x):\n",
    "    xSet = set(x.text.lower().split())\n",
    "    inflectionSet = getInflections(\"crime\")\n",
    "    \n",
    "    return UNSAFE if len(xSet.intersection(inflectionSet)) > 0 else ABSTAIN\n",
    "\n",
    "\n",
    "@labeling_function()\n",
    "def check_rape(x):\n",
    "    xSet = set(x.text.lower().split())\n",
    "    inflectionSet = getInflections(\"rape\")\n",
    "    \n",
    "    return UNSAFE if len(xSet.intersection(inflectionSet)) > 0 else ABSTAIN\n",
    "\n",
    "\n",
    "\n",
    "@labeling_function()\n",
    "def check_narcotic(x):\n",
    "    xSet = set(x.text.lower().split())\n",
    "    inflectionSet = getInflections(\"narcotic\")\n",
    "    \n",
    "    return UNSAFE if len(xSet.intersection(inflectionSet)) > 0 else ABSTAIN\n",
    "\n",
    "\n",
    "@labeling_function()\n",
    "def check_suspect(x):\n",
    "    xSet = set(x.text.lower().split())\n",
    "    inflectionSet = getInflections(\"suspect\")\n",
    "    \n",
    "    return UNSAFE if len(xSet.intersection(inflectionSet)) > 0 else ABSTAIN\n",
    "\n",
    "\n",
    "\n",
    "@labeling_function()\n",
    "def check_incident(x):\n",
    "    xSet = set(x.text.lower().split())\n",
    "    inflectionSet = getInflections(\"incident\")\n",
    "    \n",
    "    return UNSAFE if len(xSet.intersection(inflectionSet)) > 0 else ABSTAIN\n",
    "\n",
    "\n",
    "@labeling_function()\n",
    "def check_hostage(x):\n",
    "    xSet = set(x.text.lower().split())\n",
    "    inflectionSet = getInflections(\"hostage\")\n",
    "    \n",
    "    return UNSAFE if len(xSet.intersection(inflectionSet)) > 0 else ABSTAIN\n",
    "\n",
    "\n",
    "@labeling_function()\n",
    "def check_homicide(x):\n",
    "    xSet = set(x.text.lower().split())\n",
    "    inflectionSet = getInflections(\"homicide\")\n",
    "    \n",
    "    return UNSAFE if len(xSet.intersection(inflectionSet)) > 0 else ABSTAIN\n",
    "\n",
    "\n",
    "\n",
    "@labeling_function()\n",
    "def check_harassment(x):\n",
    "    xSet = set(x.text.lower().split())\n",
    "    inflectionSet = getInflections(\"harass\")\n",
    "    \n",
    "    return UNSAFE if len(xSet.intersection(inflectionSet)) > 0 else ABSTAIN\n",
    "\n",
    "\n",
    "@labeling_function()\n",
    "def check_imprison(x):\n",
    "    xSet = set(x.text.lower().split())\n",
    "    inflectionSet = getInflections(\"imprison\")\n",
    "    \n",
    "    return UNSAFE if len(xSet.intersection(inflectionSet)) > 0 else ABSTAIN\n",
    "\n",
    "\n",
    "\n",
    "@labeling_function()\n",
    "def check_fire(x):\n",
    "    xSet = set(x.text.lower().split())\n",
    "    inflectionSet = getInflections(\"fire\")\n",
    "    \n",
    "    return UNSAFE if len(xSet.intersection(inflectionSet)) > 0 else ABSTAIN\n",
    "\n",
    "\n",
    "@labeling_function()\n",
    "def check_larceny(x):\n",
    "    xSet = set(x.text.lower().split())\n",
    "    inflectionSet = getInflections(\"larceny\")\n",
    "    \n",
    "    return UNSAFE if len(xSet.intersection(inflectionSet)) > 0 else ABSTAIN\n",
    "\n",
    "\n",
    "\n",
    "@labeling_function()\n",
    "def check_crash(x):\n",
    "    xSet = set(x.text.lower().split())\n",
    "    inflectionSet = getInflections(\"crash\")\n",
    "    \n",
    "    return UNSAFE if len(xSet.intersection(inflectionSet)) > 0 else ABSTAIN\n",
    "\n",
    "\n",
    "@labeling_function()\n",
    "def check_flood(x):\n",
    "    xSet = set(x.text.lower().split())\n",
    "    inflectionSet = getInflections(\"flood\")\n",
    "    \n",
    "    return UNSAFE if len(xSet.intersection(inflectionSet)) > 0 else ABSTAIN\n",
    "\n",
    "\n",
    "\n",
    "@labeling_function()\n",
    "def check_hurricane(x):\n",
    "    xSet = set(x.text.lower().split())\n",
    "    inflectionSet = getInflections(\"hurricane\")\n",
    "    \n",
    "    return UNSAFE if len(xSet.intersection(inflectionSet)) > 0 else ABSTAIN\n",
    "\n",
    "\n",
    "@labeling_function()\n",
    "def check_earthquake(x):\n",
    "    xSet = set(x.text.lower().split())\n",
    "    inflectionSet = getInflections(\"earthquake\")\n",
    "    \n",
    "    return UNSAFE if len(xSet.intersection(inflectionSet)) > 0 else ABSTAIN\n",
    "\n",
    "\n",
    "\n",
    "@labeling_function()\n",
    "def check_tornado(x):\n",
    "    xSet = set(x.text.lower().split())\n",
    "    inflectionSet = getInflections(\"tornado\")\n",
    "    \n",
    "    return UNSAFE if len(xSet.intersection(inflectionSet)) > 0 else ABSTAIN\n",
    "\n",
    "\n",
    "@labeling_function()\n",
    "def check_shoot(x):\n",
    "    xSet = set(x.text.lower().split())\n",
    "    inflectionSet = getInflections(\"shoot\")\n",
    "    \n",
    "    return UNSAFE if len(xSet.intersection(inflectionSet)) > 0 else ABSTAIN\n",
    "\n",
    "\n",
    "@labeling_function()\n",
    "def check_deceased(x):\n",
    "    xSet = set(x.text.lower().split())\n",
    "    inflectionSet = getInflections(\"deceased\")\n",
    "    \n",
    "    return UNSAFE if len(xSet.intersection(inflectionSet)) > 0 else ABSTAIN\n",
    "\n",
    "\n",
    "@labeling_function()\n",
    "def check_sentiment_compound(x):\n",
    "    vs = analyzer.polarity_scores(x.text.lower())\n",
    "    return SAFE if vs[\"compound\"] >= 0.1 else ABSTAIN\n",
    "\n",
    "@labeling_function()\n",
    "def check_sentiment_positive(x):\n",
    "    vs = analyzer.polarity_scores(x.text.lower())\n",
    "    return SAFE if vs[\"pos\"] >= 0.2 else ABSTAIN"
   ]
  },
  {
   "cell_type": "code",
   "execution_count": 6,
   "metadata": {},
   "outputs": [
    {
     "name": "stderr",
     "output_type": "stream",
     "text": [
      "100%|██████████| 7613/7613 [00:12<00:00, 602.93it/s]\n"
     ]
    }
   ],
   "source": [
    "lfs = [check_assault, check_kidnap, check_theft, check_arson, check_robber, \n",
    "       check_burglar, check_bombing, check_criminal, check_murder, check_manslaughter, \n",
    "       check_crime, check_rape, check_narcotic, check_suspect, check_incident, check_hostage, \n",
    "       check_homicide, check_harassment, check_imprison, check_fire, check_larceny, \n",
    "       check_crash, check_flood, check_hurricane, check_earthquake, check_tornado, check_shoot, \n",
    "       check_deceased, check_sentiment_compound, check_sentiment_positive\n",
    "      ]\n",
    "\n",
    "applier = PandasLFApplier(lfs=lfs)\n",
    "L_train = applier.apply(df=train)"
   ]
  },
  {
   "cell_type": "code",
   "execution_count": 7,
   "metadata": {},
   "outputs": [
    {
     "name": "stdout",
     "output_type": "stream",
     "text": [
      "[[0.  1. ]\n",
      " [1.  0. ]\n",
      " [0.5 0.5]\n",
      " ...\n",
      " [0.5 0.5]\n",
      " [0.5 0.5]\n",
      " [0.5 0.5]]\n"
     ]
    }
   ],
   "source": [
    "majority_model = MajorityLabelVoter()\n",
    "\n",
    "L = L_train\n",
    "predictions = majority_model.predict_proba(L)\n",
    "print(predictions)"
   ]
  },
  {
   "cell_type": "code",
   "execution_count": 8,
   "metadata": {},
   "outputs": [],
   "source": [
    "train[\"UnsafeProb\"] = predictions[:,0]\n",
    "train[\"SafeProb\"] = predictions[:,1]"
   ]
  },
  {
   "cell_type": "code",
   "execution_count": 9,
   "metadata": {},
   "outputs": [],
   "source": [
    "## worst case: we discard any tweets without 0/1 dichotomy when we pull our batch of tweets\n",
    "train_filtered = train[train.UnsafeProb != 0.5]"
   ]
  },
  {
   "cell_type": "code",
   "execution_count": 10,
   "metadata": {},
   "outputs": [
    {
     "name": "stdout",
     "output_type": "stream",
     "text": [
      "UnsafeProb   0.0  1.0\n",
      "target               \n",
      "0           1380  157\n",
      "1            480  597\n"
     ]
    }
   ],
   "source": [
    "y_actu = train_filtered[\"target\"]\n",
    "y_pred = train_filtered[\"UnsafeProb\"]\n",
    "df_confusion = pd.crosstab(y_actu, y_pred)\n",
    "print(df_confusion)"
   ]
  },
  {
   "cell_type": "code",
   "execution_count": 11,
   "metadata": {},
   "outputs": [
    {
     "name": "stdout",
     "output_type": "stream",
     "text": [
      "              precision    recall  f1-score   support\n",
      "\n",
      "           0       0.74      0.90      0.81      1537\n",
      "           1       0.79      0.55      0.65      1077\n",
      "\n",
      "    accuracy                           0.76      2614\n",
      "   macro avg       0.77      0.73      0.73      2614\n",
      "weighted avg       0.76      0.76      0.75      2614\n",
      "\n"
     ]
    }
   ],
   "source": [
    "print(classification_report(y_actu, y_pred, labels=[0,1]))"
   ]
  },
  {
   "cell_type": "code",
   "execution_count": 12,
   "metadata": {},
   "outputs": [],
   "source": [
    "# import tweepy\n",
    "# from tweepy import OAuthHandler\n",
    "# import pandas as pd\n",
    "\n",
    "# consumer_key = '2XFmdLC5dtjfXHkQoRNx5YOxP'\n",
    "# consumer_secret = 'WZO1Y4DUrXStsFPCORLZQy6VTqBMPPMcM7ZX37gyfX5tvKFATu'\n",
    "\n",
    "# access_token = '717047673711239169-PRkvMJn8gzn6yAnFfWj2jFlB3lQK4S4'\n",
    "# access_token_secret = 'rqTN60hRqKC7NtzPNXAmQ3H1oPqcfzdrThTj4YY77Uzq1'\n",
    "\n",
    "# auth = tweepy.OAuthHandler(consumer_key, consumer_secret)\n",
    "# auth.set_access_token(access_token, access_token_secret)\n",
    "# api = tweepy.API(auth,wait_on_rate_limit=True)"
   ]
  },
  {
   "cell_type": "code",
   "execution_count": 13,
   "metadata": {},
   "outputs": [],
   "source": [
    "# username = 'MiamiDadePD'\n",
    "# max_tweets = 2100\n",
    " \n",
    "# # Creation of query method using parameters\n",
    "# tweets = tweepy.Cursor(api.user_timeline, id=username, tweet_mode='extended').items(max_tweets)\n",
    " \n",
    "# # Pulling information from tweets iterable object\n",
    "# # Add or remove tweet information you want in the below list comprehension\n",
    "# tweets_list = [[tweet.full_text] for tweet in tweets]\n",
    " \n",
    "# # Creation of dataframe from tweets_list\n",
    "# # Did not include column names to simplify code \n",
    "# tweets_df = pd.DataFrame(tweets_list)\n",
    "\n",
    "# tweets_df.to_pickle(\"miami.pkl\")\n"
   ]
  },
  {
   "cell_type": "code",
   "execution_count": 14,
   "metadata": {},
   "outputs": [
    {
     "name": "stdout",
     "output_type": "stream",
     "text": [
      "                                                   text\n",
      "0     🚨 #MISSING:  Jorge Luis Morin, 54 years old, w...\n",
      "1     On 12/15/17 Carnell Williams-Thomas was killed...\n",
      "2     This is the third and final week of #MDPD’s Sp...\n",
      "3     #UPDATE: Mr. Weatherington Jr. was recovered s...\n",
      "4     RT @DEAHQ: DEA Acting Administrator Shea and @...\n",
      "...                                                 ...\n",
      "2095  Wanted for Aggravated Burglary\\n6471 Ridge Bro...\n",
      "2096  On 3/13 at 11:05 p.m. officers responded to a ...\n",
      "2097  Officers are on the scene of a subject who jum...\n",
      "2098    https://t.co/fVt77FTW0k https://t.co/DcUPFiCJcX\n",
      "2099  In honor of Women's History Month, the Memphis...\n",
      "\n",
      "[23100 rows x 1 columns]\n"
     ]
    }
   ],
   "source": [
    "tweets = pd.read_pickle(\"tweetsFromPoliceAccounts.pkl\")\n",
    "tweets.columns = ['text']\n",
    "print(tweets)"
   ]
  },
  {
   "cell_type": "code",
   "execution_count": 15,
   "metadata": {},
   "outputs": [
    {
     "name": "stderr",
     "output_type": "stream",
     "text": [
      "100%|██████████| 23100/23100 [00:43<00:00, 528.52it/s]\n"
     ]
    },
    {
     "name": "stdout",
     "output_type": "stream",
     "text": [
      "[[0.  1. ]\n",
      " [0.5 0.5]\n",
      " [0.  1. ]\n",
      " ...\n",
      " [0.5 0.5]\n",
      " [0.5 0.5]\n",
      " [0.  1. ]]\n"
     ]
    }
   ],
   "source": [
    "L_train = applier.apply(df=tweets)\n",
    "L = L_train\n",
    "predictions = majority_model.predict_proba(L)\n",
    "print(predictions)"
   ]
  },
  {
   "cell_type": "code",
   "execution_count": 16,
   "metadata": {},
   "outputs": [
    {
     "name": "stdout",
     "output_type": "stream",
     "text": [
      "                                                   text  label\n",
      "0     🚨 #MISSING:  Jorge Luis Morin, 54 years old, w...    0.0\n",
      "2     This is the third and final week of #MDPD’s Sp...    0.0\n",
      "3     #UPDATE: Mr. Weatherington Jr. was recovered s...    0.0\n",
      "8     Crashes due to Move Over violations are 💯% pre...    1.0\n",
      "10    The MDPD has earned its ninth successful re-ac...    0.0\n",
      "...                                                 ...    ...\n",
      "2090  At 3:12 a.m., officers responded to a Hit and ...    1.0\n",
      "2091  At approx 4:40 a.m. officers were on the scene...    1.0\n",
      "2092  In honor of Women's History Month, the Memphis...    0.0\n",
      "2096  On 3/13 at 11:05 p.m. officers responded to a ...    1.0\n",
      "2099  In honor of Women's History Month, the Memphis...    0.0\n",
      "\n",
      "[14061 rows x 2 columns]\n"
     ]
    }
   ],
   "source": [
    "tweets = tweets.assign(label=predictions[:,0])\n",
    "tweets_filtered = tweets[tweets['label'] != 0.5]\n",
    "\n",
    "print(tweets_filtered)"
   ]
  },
  {
   "cell_type": "code",
   "execution_count": 17,
   "metadata": {},
   "outputs": [
    {
     "name": "stdout",
     "output_type": "stream",
     "text": [
      "Number of rows and columns in the train data set: (14061, 2)\n",
      "Number of rows and columns in the test data set: (641, 2)\n"
     ]
    }
   ],
   "source": [
    "train = tweets_filtered\n",
    "test = pd.read_csv('labeledTweets.csv')\n",
    "test.columns = ['text', 'label']\n",
    "print('Number of rows and columns in the train data set:',train.shape)\n",
    "print('Number of rows and columns in the test data set:',test.shape)"
   ]
  },
  {
   "cell_type": "code",
   "execution_count": 18,
   "metadata": {},
   "outputs": [],
   "source": [
    "from sklearn.feature_extraction.text import TfidfVectorizer\n",
    "from sklearn.linear_model import LogisticRegression\n",
    "from sklearn.pipeline import Pipeline\n",
    "from scipy import sparse"
   ]
  },
  {
   "cell_type": "code",
   "execution_count": 19,
   "metadata": {},
   "outputs": [],
   "source": [
    "vect_word = TfidfVectorizer(max_features=50000, lowercase=True, analyzer='word',\n",
    "                        stop_words= 'english',ngram_range=(1,3),dtype=np.float32)\n",
    "vect_char = TfidfVectorizer(max_features=100000, lowercase=True, analyzer='char',\n",
    "                        stop_words= 'english',ngram_range=(3,6),dtype=np.float32)"
   ]
  },
  {
   "cell_type": "code",
   "execution_count": 20,
   "metadata": {},
   "outputs": [],
   "source": [
    "# Word ngram vector\n",
    "tr_vect = vect_word.fit_transform(train['text'])\n",
    "ts_vect = vect_word.transform(test['text'])\n",
    "\n",
    "# Character n gram vector\n",
    "tr_vect_char = vect_char.fit_transform(train['text'])\n",
    "ts_vect_char = vect_char.transform(test['text'])"
   ]
  },
  {
   "cell_type": "code",
   "execution_count": 21,
   "metadata": {},
   "outputs": [],
   "source": [
    "X = sparse.hstack([tr_vect, tr_vect_char])\n",
    "x_test = sparse.hstack([ts_vect, ts_vect_char])"
   ]
  },
  {
   "cell_type": "code",
   "execution_count": 22,
   "metadata": {},
   "outputs": [],
   "source": [
    "target_col = ['label']\n",
    "y = train[target_col]"
   ]
  },
  {
   "cell_type": "code",
   "execution_count": 23,
   "metadata": {},
   "outputs": [
    {
     "name": "stdout",
     "output_type": "stream",
     "text": [
      "              precision    recall  f1-score   support\n",
      "\n",
      "           0       0.83      0.90      0.86       294\n",
      "           1       0.91      0.84      0.87       347\n",
      "\n",
      "    accuracy                           0.87       641\n",
      "   macro avg       0.87      0.87      0.87       641\n",
      "weighted avg       0.87      0.87      0.87       641\n",
      "\n"
     ]
    }
   ],
   "source": [
    "col = 'label'\n",
    "i=0\n",
    "lr = LogisticRegression(C=2,random_state = i,class_weight = 'balanced') \n",
    "lr.fit(X,y[col])\n",
    "\n",
    "pred =  lr.predict(x_test)\n",
    "print(x_test)\n",
    "pred2= lr.predict(\"Hi I like turtles\")\n",
    "print(classification_report(test[col],pred))"
   ]
  },
  {
   "cell_type": "code",
   "execution_count": 24,
   "metadata": {},
   "outputs": [],
   "source": [
    "import pickle\n",
    "# now you can save it to a file\n",
    "with open('logreg.pkl', 'wb') as f:\n",
    "    pickle.dump(lr, f)\n",
    "\n",
    "# # and later you can load it\n",
    "# with open('filename.pkl', 'rb') as f:\n",
    "#     clf = pickle.load(f)"
   ]
  },
  {
   "cell_type": "code",
   "execution_count": 25,
   "metadata": {},
   "outputs": [
    {
     "name": "stdout",
     "output_type": "stream",
     "text": [
      "              precision    recall  f1-score   support\n",
      "\n",
      "           0       0.81      0.91      0.86       294\n",
      "           1       0.91      0.82      0.86       347\n",
      "\n",
      "    accuracy                           0.86       641\n",
      "   macro avg       0.86      0.86      0.86       641\n",
      "weighted avg       0.87      0.86      0.86       641\n",
      "\n"
     ]
    }
   ],
   "source": [
    "from sklearn.linear_model import SGDClassifier\n",
    "col = 'label'\n",
    "i=0\n",
    "sgd = SGDClassifier().fit(X, y[col])\n",
    "pred =  sgd.predict(x_test)\n",
    "print(classification_report(test[col],pred))\n",
    "\n",
    "# now you can save it to a file\n",
    "with open('sgd.pkl', 'wb') as f:\n",
    "    pickle.dump(sgd, f)"
   ]
  },
  {
   "cell_type": "code",
   "execution_count": 26,
   "metadata": {},
   "outputs": [],
   "source": [
    "# from sklearn.ensemble import RandomForestClassifier\n",
    "# import operator"
   ]
  },
  {
   "cell_type": "code",
   "execution_count": 27,
   "metadata": {},
   "outputs": [
    {
     "data": {
      "text/plain": [
       "RandomForestClassifier(class_weight='balanced', max_features=None,\n",
       "                       n_estimators=500, n_jobs=-1, oob_score=True,\n",
       "                       random_state=50)"
      ]
     },
     "execution_count": 27,
     "metadata": {},
     "output_type": "execute_result"
    }
   ],
   "source": [
    "# col = 'label'\n",
    "# rf = RandomForestClassifier(n_estimators=500, oob_score=True, n_jobs=-1,random_state=50, \n",
    "#                              max_features=None, class_weight = 'balanced')\n",
    "# rf.fit(X,y[col])"
   ]
  },
  {
   "cell_type": "code",
   "execution_count": 28,
   "metadata": {},
   "outputs": [
    {
     "name": "stdout",
     "output_type": "stream",
     "text": [
      "              precision    recall  f1-score   support\n",
      "\n",
      "           0       0.74      0.93      0.83       294\n",
      "           1       0.93      0.72      0.81       347\n",
      "\n",
      "    accuracy                           0.82       641\n",
      "   macro avg       0.83      0.83      0.82       641\n",
      "weighted avg       0.84      0.82      0.82       641\n",
      "\n"
     ]
    }
   ],
   "source": [
    "# pred =  rf.predict(x_test)\n",
    "# print(classification_report(test[col],pred))\n",
    "\n",
    "# # now you can save it to a file\n",
    "# with open('randomforest.pkl', 'wb') as f:\n",
    "#     pickle.dump(rf, f)\n",
    "\n",
    "#               precision    recall  f1-score   support\n",
    "\n",
    "#            0       0.74      0.93      0.83       294\n",
    "#            1       0.93      0.72      0.81       347\n",
    "\n",
    "#     accuracy                           0.82       641\n",
    "#    macro avg       0.83      0.83      0.82       641\n",
    "# weighted avg       0.84      0.82      0.82       641"
   ]
  },
  {
   "cell_type": "code",
   "execution_count": 32,
   "metadata": {},
   "outputs": [
    {
     "name": "stdout",
     "output_type": "stream",
     "text": [
      "              precision    recall  f1-score   support\n",
      "\n",
      "           0       0.72      0.94      0.81       294\n",
      "           1       0.93      0.69      0.79       347\n",
      "\n",
      "    accuracy                           0.80       641\n",
      "   macro avg       0.82      0.81      0.80       641\n",
      "weighted avg       0.83      0.80      0.80       641\n",
      "\n"
     ]
    }
   ],
   "source": [
    "# from sklearn.ensemble import GradientBoostingClassifier\n",
    "\n",
    "# from sklearn.linear_model import SGDClassifier\n",
    "# col = 'label'\n",
    "# i=0\n",
    "# gb = GradientBoostingClassifier().fit(X, y[col])\n",
    "# pred =  gb.predict(x_test)\n",
    "# print(classification_report(test[col],pred))\n",
    "\n",
    "# # now you can save it to a file\n",
    "# with open('gradboosting.pkl', 'wb') as f:\n",
    "#     pickle.dump(gb, f)\n",
    "\n",
    "#               precision    recall  f1-score   support\n",
    "\n",
    "#            0       0.72      0.94      0.81       294\n",
    "#            1       0.93      0.69      0.79       347\n",
    "\n",
    "#     accuracy                           0.80       641\n",
    "#    macro avg       0.82      0.81      0.80       641\n",
    "# weighted avg       0.83      0.80      0.80       641"
   ]
  },
  {
   "cell_type": "markdown",
   "metadata": {},
   "source": [
    "https://stackoverflow.com/questions/10592605/save-classifier-to-disk-in-scikit-learn"
   ]
  },
  {
   "cell_type": "code",
   "execution_count": 23,
   "metadata": {},
   "outputs": [
    {
     "name": "stdout",
     "output_type": "stream",
     "text": [
      "(14061, 2) (641, 2)\n"
     ]
    }
   ],
   "source": [
    "# # !pip3 install ernie\n",
    "from ernie import SentenceClassifier, Models\n",
    "print (train.shape, test.shape)"
   ]
  },
  {
   "cell_type": "code",
   "execution_count": 24,
   "metadata": {},
   "outputs": [
    {
     "data": {
      "text/html": [
       "<div>\n",
       "<style scoped>\n",
       "    .dataframe tbody tr th:only-of-type {\n",
       "        vertical-align: middle;\n",
       "    }\n",
       "\n",
       "    .dataframe tbody tr th {\n",
       "        vertical-align: top;\n",
       "    }\n",
       "\n",
       "    .dataframe thead th {\n",
       "        text-align: right;\n",
       "    }\n",
       "</style>\n",
       "<table border=\"1\" class=\"dataframe\">\n",
       "  <thead>\n",
       "    <tr style=\"text-align: right;\">\n",
       "      <th></th>\n",
       "      <th>0</th>\n",
       "      <th>1</th>\n",
       "    </tr>\n",
       "  </thead>\n",
       "  <tbody>\n",
       "    <tr>\n",
       "      <th>0</th>\n",
       "      <td>🚨 #MISSING:  Jorge Luis Morin, 54 years old, w...</td>\n",
       "      <td>0.0</td>\n",
       "    </tr>\n",
       "    <tr>\n",
       "      <th>2</th>\n",
       "      <td>This is the third and final week of #MDPD’s Sp...</td>\n",
       "      <td>0.0</td>\n",
       "    </tr>\n",
       "    <tr>\n",
       "      <th>3</th>\n",
       "      <td>#UPDATE: Mr. Weatherington Jr. was recovered s...</td>\n",
       "      <td>0.0</td>\n",
       "    </tr>\n",
       "    <tr>\n",
       "      <th>8</th>\n",
       "      <td>Crashes due to Move Over violations are 💯% pre...</td>\n",
       "      <td>1.0</td>\n",
       "    </tr>\n",
       "    <tr>\n",
       "      <th>10</th>\n",
       "      <td>The MDPD has earned its ninth successful re-ac...</td>\n",
       "      <td>0.0</td>\n",
       "    </tr>\n",
       "  </tbody>\n",
       "</table>\n",
       "</div>"
      ],
      "text/plain": [
       "                                                    0    1\n",
       "0   🚨 #MISSING:  Jorge Luis Morin, 54 years old, w...  0.0\n",
       "2   This is the third and final week of #MDPD’s Sp...  0.0\n",
       "3   #UPDATE: Mr. Weatherington Jr. was recovered s...  0.0\n",
       "8   Crashes due to Move Over violations are 💯% pre...  1.0\n",
       "10  The MDPD has earned its ninth successful re-ac...  0.0"
      ]
     },
     "execution_count": 24,
     "metadata": {},
     "output_type": "execute_result"
    }
   ],
   "source": [
    "train = train.rename(columns={'text':0,'label':1})\n",
    "train.head(5)"
   ]
  },
  {
   "cell_type": "code",
   "execution_count": 25,
   "metadata": {},
   "outputs": [],
   "source": [
    "# classifier = SentenceClassifier(model_name=Models.BertBaseUncased, max_length=128, labels_no=2)"
   ]
  },
  {
   "cell_type": "code",
   "execution_count": 26,
   "metadata": {},
   "outputs": [],
   "source": [
    "# classifier.load_dataset(dataframe=train ,validation_split=0.2)"
   ]
  },
  {
   "cell_type": "code",
   "execution_count": 27,
   "metadata": {},
   "outputs": [
    {
     "name": "stdout",
     "output_type": "stream",
     "text": [
      "Train for 351 steps, validate for 43 steps\n",
      "351/351 [==============================] - 196s 558ms/step - loss: 0.1199 - accuracy: 0.9541 - val_loss: 0.0559 - val_accuracy: 0.9833\n"
     ]
    }
   ],
   "source": [
    "#classifier.fine_tune(epochs=1, learning_rate=2e-5, training_batch_size=32, validation_batch_size=64)\n",
    "classifier = SentenceClassifier(model_path='./model')"
   ]
  },
  {
   "cell_type": "code",
   "execution_count": 52,
   "metadata": {},
   "outputs": [],
   "source": [
    "from ernie import AggregationStrategies\n",
    "probabilities = classifier.predict(test['text'],\n",
    "                                   aggregation_strategy=AggregationStrategies.Mean)"
   ]
  },
  {
   "cell_type": "code",
   "execution_count": 53,
   "metadata": {},
   "outputs": [],
   "source": [
    "predictions = list(n for n in probabilities)"
   ]
  },
  {
   "cell_type": "code",
   "execution_count": 54,
   "metadata": {},
   "outputs": [
    {
     "name": "stdout",
     "output_type": "stream",
     "text": [
      "0      0\n",
      "1      0\n",
      "2      1\n",
      "3      0\n",
      "4      0\n",
      "      ..\n",
      "636    0\n",
      "637    0\n",
      "638    0\n",
      "639    0\n",
      "640    0\n",
      "Name: label, Length: 641, dtype: int64\n"
     ]
    }
   ],
   "source": [
    "print(test['label'])"
   ]
  },
  {
   "cell_type": "code",
   "execution_count": 55,
   "metadata": {},
   "outputs": [
    {
     "name": "stdout",
     "output_type": "stream",
     "text": [
      "   label\n",
      "0      0\n",
      "1      0\n",
      "2      1\n",
      "3      0\n",
      "4      0\n"
     ]
    }
   ],
   "source": [
    "predictions_final = pd.DataFrame([])\n",
    "\n",
    "for pred in predictions:\n",
    "    if pred[0] > pred[1]:\n",
    "        predictions_final = predictions_final.append(pd.DataFrame({'label': 0}, index=[0]), ignore_index=True)\n",
    "    else:\n",
    "        predictions_final = predictions_final.append(pd.DataFrame({'label': 1}, index=[0]), ignore_index=True)\n",
    "\n",
    "print(predictions_final.head())"
   ]
  },
  {
   "cell_type": "code",
   "execution_count": 60,
   "metadata": {},
   "outputs": [
    {
     "name": "stdout",
     "output_type": "stream",
     "text": [
      "label    0    1\n",
      "label          \n",
      "0      352    0\n",
      "1        0  289\n",
      "0.8377535101404057\n",
      "              precision    recall  f1-score   support\n",
      "\n",
      "           0       0.77      0.92      0.84       294\n",
      "           1       0.92      0.77      0.84       347\n",
      "\n",
      "    accuracy                           0.84       641\n",
      "   macro avg       0.85      0.84      0.84       641\n",
      "weighted avg       0.85      0.84      0.84       641\n",
      "\n"
     ]
    }
   ],
   "source": [
    "y_actu = test[\"label\"]\n",
    "y_pred = predictions_final[\"label\"]\n",
    "df_confusion = pd.crosstab(y_actu, y_pred)\n",
    "print(df_confusion)\n",
    "\n",
    "count = 0\n",
    "total = 0\n",
    "for i in range(len(y_actu)):\n",
    "    actu = y_actu[i]\n",
    "    pred = y_pred[i]\n",
    "    total += 1\n",
    "    if actu == pred:\n",
    "        count += 1\n",
    "        \n",
    "print (count/total)\n",
    "        \n",
    "print(classification_report(y_actu, y_pred, labels=[0,1]))"
   ]
  },
  {
   "cell_type": "code",
   "execution_count": 56,
   "metadata": {},
   "outputs": [],
   "source": [
    "#classifier.dump('./model')"
   ]
  },
  {
   "cell_type": "code",
   "execution_count": null,
   "metadata": {},
   "outputs": [],
   "source": []
  }
 ],
 "metadata": {
  "kernelspec": {
   "display_name": "Python 3",
   "language": "python",
   "name": "python3"
  },
  "language_info": {
   "codemirror_mode": {
    "name": "ipython",
    "version": 3
   },
   "file_extension": ".py",
   "mimetype": "text/x-python",
   "name": "python",
   "nbconvert_exporter": "python",
   "pygments_lexer": "ipython3",
   "version": "3.8.3"
  }
 },
 "nbformat": 4,
 "nbformat_minor": 4
}
